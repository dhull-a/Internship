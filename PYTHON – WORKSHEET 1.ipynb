{
 "cells": [
  {
   "cell_type": "markdown",
   "metadata": {},
   "source": [
    "<center><b>Python - Worksheet 1</b></center>"
   ]
  },
  {
   "cell_type": "markdown",
   "metadata": {},
   "source": [
    "<b>Q11. Write a python program to find the factorial of a number.</b>"
   ]
  },
  {
   "cell_type": "code",
   "execution_count": 3,
   "metadata": {},
   "outputs": [
    {
     "name": "stdout",
     "output_type": "stream",
     "text": [
      "Enter the number for the factorial : 7\n",
      "The factorial of 7 is 5040 \n"
     ]
    }
   ],
   "source": [
    "\n",
    "def factorial(number):                        # function defination\n",
    "    fact=1\n",
    "\n",
    "    for i in range(1, number+1):              # for loop for finding factorial\n",
    "        fact=fact*i\n",
    "    return fact                               # return factorial \n",
    "\n",
    "user_number=int(input(\"Enter the number for the factorial : \"))\n",
    "result=factorial(user_number)                 # function call and assign the value to variable result \n",
    "\n",
    "print(\"The factorial of %d is %d \" %(user_number,result))"
   ]
  },
  {
   "cell_type": "markdown",
   "metadata": {},
   "source": [
    "<b>Q12. Write a python program to find whether a number is prime or composite.</b>"
   ]
  },
  {
   "cell_type": "code",
   "execution_count": 14,
   "metadata": {},
   "outputs": [
    {
     "name": "stdout",
     "output_type": "stream",
     "text": [
      "Enter any number to check whether it is Prime or Composite :5678\n",
      "5678  is a Composite Number\n"
     ]
    }
   ],
   "source": [
    "\n",
    "number=int(input(\"Enter any number to check whether it is Prime or Composite :\"))\n",
    "if(number==0 or number==1):                   # branching to check the number is Prime or Composite\n",
    "        print(number,\" is neither Prime or Composite Number.\")\n",
    "elif number>1:\n",
    "    for i in range(2,number):                 # for loop to check number is divisble to 2\n",
    "        if(number%i == 0):\n",
    "            print(number,\" is a Composite Number\")\n",
    "            break                             # to terminate the current iteration\n",
    "    else:\n",
    "        print(number,\" is a Prime Number\")\n",
    "else:\n",
    "    print(\"Please enter only Positive Number.\")"
   ]
  },
  {
   "cell_type": "markdown",
   "metadata": {},
   "source": [
    "<b>Q13. Write a python program to check whether a given string is palindrome or not.</b>"
   ]
  },
  {
   "cell_type": "code",
   "execution_count": 17,
   "metadata": {},
   "outputs": [
    {
     "name": "stdout",
     "output_type": "stream",
     "text": [
      "Enter a string:20202\n",
      "20202 is a Palindrome String.\n"
     ]
    }
   ],
   "source": [
    "string=input(\"Enter a string:\")              \n",
    "if(string==string[::-1]):                    # branching to check if reverse of the string is same\n",
    "    print(string,\"is a Palindrome String.\")\n",
    "else:\n",
    "    print(string,\"is not a Palindrome String.\")"
   ]
  },
  {
   "cell_type": "markdown",
   "metadata": {},
   "source": [
    "<b>Q14. Write a Python program to get the third side of right-angled triangle from two given sides.</b>"
   ]
  },
  {
   "cell_type": "code",
   "execution_count": 23,
   "metadata": {},
   "outputs": [
    {
     "name": "stdout",
     "output_type": "stream",
     "text": [
      "Enter the value for Perpendicular side of the right angle triangle:4\n",
      "Enter the value for Base side of the right angle triangle:3\n",
      "5.0 is the third side of the right angle triangle. \n"
     ]
    }
   ],
   "source": [
    "from math import sqrt                       # importing square root from math package\n",
    "\n",
    "perpendicular=float(input(\"Enter the value for Perpendicular side of the right angle triangle:\"))\n",
    "base=float(input(\"Enter the value for Base side of the right angle triangle:\"))\n",
    "hypotenuse=sqrt(perpendicular**2 + base**2) # calculating the third side with the maths formula for right angle triangle\n",
    "\n",
    "print(hypotenuse,\"is the third side of the right angle triangle. \")"
   ]
  },
  {
   "cell_type": "markdown",
   "metadata": {},
   "source": [
    "<b>Q15.Write a python program to print the frequency of each of the characters present in a given string.</b>"
   ]
  },
  {
   "cell_type": "code",
   "execution_count": 25,
   "metadata": {},
   "outputs": [
    {
     "name": "stdout",
     "output_type": "stream",
     "text": [
      "Enter a string:AkankshaDhul\n",
      "The frequency of each characters present in AkankshaDhul is:{'A': 1, 'k': 2, 'a': 2, 'n': 1, 's': 1, 'h': 2, 'D': 1, 'u': 1, 'l': 1}\n"
     ]
    }
   ],
   "source": [
    "frequency_string=input(\"Enter a string:\")\n",
    "\n",
    "frequency={}                               # creating an empty dictionary          \n",
    "\n",
    "for i in frequency_string:\n",
    "    if i in frequency:\n",
    "        frequency[i]+=1                   # adding the no. of frequency of the string\n",
    "    else:\n",
    "        frequency[i]=1\n",
    "        \n",
    "print(\"The frequency of each characters present in\",frequency_string,\"is:\" +str(frequency))"
   ]
  },
  {
   "cell_type": "code",
   "execution_count": null,
   "metadata": {},
   "outputs": [],
   "source": []
  }
 ],
 "metadata": {
  "kernelspec": {
   "display_name": "Python 3",
   "language": "python",
   "name": "python3"
  },
  "language_info": {
   "codemirror_mode": {
    "name": "ipython",
    "version": 3
   },
   "file_extension": ".py",
   "mimetype": "text/x-python",
   "name": "python",
   "nbconvert_exporter": "python",
   "pygments_lexer": "ipython3",
   "version": "3.8.5"
  }
 },
 "nbformat": 4,
 "nbformat_minor": 4
}
